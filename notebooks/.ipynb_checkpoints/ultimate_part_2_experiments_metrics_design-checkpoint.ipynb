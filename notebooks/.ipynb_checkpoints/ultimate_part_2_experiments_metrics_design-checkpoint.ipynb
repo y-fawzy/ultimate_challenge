{
 "cells": [
  {
   "cell_type": "markdown",
   "metadata": {},
   "source": [
    "# Part 2: EXPERIMENTS AND METRICS DESIGN"
   ]
  },
  {
   "cell_type": "markdown",
   "metadata": {},
   "source": [
    "The neighboring cities of Gotham and Metropolis have complementary circadian rhythms: on\n",
    "weekdays, Ultimate Gotham is most active at night, and Ultimate Metropolis is most active\n",
    "during the day. On weekends, there is reasonable activity in both cities.\n",
    "However, a toll bridge, with a two way\n",
    "toll, between the two cities causes driver partners to tend\n",
    "to be exclusive to each city. The Ultimate managers of city operations for the two cities have\n",
    "proposed an experiment to encourage driver partners to be available in both cities, by\n",
    "reimbursing all toll costs."
   ]
  },
  {
   "cell_type": "markdown",
   "metadata": {},
   "source": [
    "\n",
    "#### 1. What would you choose as the key measure of success of this experiment in encouraging driver partners to serve both cities, and why would you choose this metric?"
   ]
  },
  {
   "cell_type": "markdown",
   "metadata": {},
   "source": [
    "A critical metric for success would be *Average Passenger Wait Time*\n",
    "\n",
    "\n",
    "This is the total wait time divided by the total number of passengers.  Using this metric, a direct and indirect metric could be deduced :\n",
    "\n",
    "1. Direct: Average passenger wait time. \n",
    "2. If the average passenger wait time is reduced, this means that drivers are working more filling gaps in demand in total.\n",
    "\n",
    "This metric implies that all stakeholders are satisfied."
   ]
  },
  {
   "cell_type": "markdown",
   "metadata": {},
   "source": [
    "#### 2. Describe a practical experiment you would design to compare the effectiveness of the proposed change in relation to the key measure of success. Please provide details on:"
   ]
  },
  {
   "cell_type": "markdown",
   "metadata": {},
   "source": [
    "- The experiment would be to see if there is a significant change in \"Average Passenger Wait Time\" due to the proposed managerial change.\n",
    "- The null hypothesis would be:\n",
    "\"Mean Passenger Wait Time is the same after implementing the change\""
   ]
  },
  {
   "cell_type": "markdown",
   "metadata": {},
   "source": [
    "a. how you will implement the experiment\n",
    "b. what statistical test(s) you will conduct to verify the significance of the observation"
   ]
  },
  {
   "cell_type": "markdown",
   "metadata": {},
   "source": [
    "Assuming Population of both cities are equal.\n",
    "1. Store average wait time will be our test statistic.\n",
    "1. Offer a proposition to drivers on a first-come first-serve basis at different times of the day over the period of 1 month and set a start date.\n",
    "2. The first X%(Assume 10%) number of drivers are eligibible for toll costs reimbursement.\n",
    "-  Steps 1 & 2 ensure there is no selection bias in the study\n",
    "3. Run the experiment until there is 3 months of wait time data.\n",
    "3. Using a bootstrapped hypothesis test, test the null hypothesis to see if there is a significant change in wait time for each city.This test can be conducted using the following steps:\n",
    "- 3.1. Find the mean of the observed wait times \n",
    "- 3.2. Translate the observed wait times so that they have the same mean as the new wait time. \n",
    "- 3.3. Take bootstrap replicates of the translated wait times\n",
    "- 3.4. Compute the fraction of replicates that are less than the original average wait time.\n",
    "This is a p-value which is the probability of finding a wait time as extreme as the observed.\n",
    "- 3.5. Depending on the significance level define(90%,95%,99%), we shall reject the null hypothesis is below the pre-define alpha level (0.1,0.05,0.01).\n"
   ]
  },
  {
   "cell_type": "markdown",
   "metadata": {},
   "source": [
    "c. how you would interpret the results and provide recommendations to the city\n",
    "operations team along with any caveats."
   ]
  },
  {
   "cell_type": "markdown",
   "metadata": {},
   "source": [
    "1. Conduct digital surveys to clients and drivers to receive critical feedback or highlight any concerns that were not presumed. (Eg has this affected drivers profitabiltiy(Reduced due to increase travel costs that is making them unhappy?, Any cultural issues of mixing populations?)\n",
    "2. Ipmlementing this option could be a risk as it could lead to one city having more drivers than the other, leaving a lot of unhappy clients. A workaround this would be to balance the number of drivers in each city so that not all drivers go to one city, sleep and leave an empty city.\n",
    "2. If the null hypothesis is rejected, then we can run a couple of more experiments on a larger set of drivers and for a longer period of time.\n",
    "3. The availability of this option should be gradually implemented and further studied for any implications."
   ]
  }
 ],
 "metadata": {
  "kernelspec": {
   "display_name": "Python 3",
   "language": "python",
   "name": "python3"
  },
  "language_info": {
   "codemirror_mode": {
    "name": "ipython",
    "version": 3
   },
   "file_extension": ".py",
   "mimetype": "text/x-python",
   "name": "python",
   "nbconvert_exporter": "python",
   "pygments_lexer": "ipython3",
   "version": "3.7.3"
  }
 },
 "nbformat": 4,
 "nbformat_minor": 2
}
